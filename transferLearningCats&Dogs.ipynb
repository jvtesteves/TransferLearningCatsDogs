{
  "nbformat": 4,
  "nbformat_minor": 0,
  "metadata": {
    "colab": {
      "provenance": [],
      "toc_visible": true,
      "authorship_tag": "ABX9TyOIF/oRj3iU2vkinFGfMVmf",
      "include_colab_link": true
    },
    "kernelspec": {
      "name": "python3",
      "display_name": "Python 3"
    },
    "language_info": {
      "name": "python"
    }
  },
  "cells": [
    {
      "cell_type": "markdown",
      "metadata": {
        "id": "view-in-github",
        "colab_type": "text"
      },
      "source": [
        "<a href=\"https://colab.research.google.com/github/jvtesteves/TransferLearningCatsDogs/blob/main/transferLearningCats%26Dogs.ipynb\" target=\"_parent\"><img src=\"https://colab.research.google.com/assets/colab-badge.svg\" alt=\"Open In Colab\"/></a>"
      ]
    },
    {
      "cell_type": "code",
      "execution_count": 5,
      "metadata": {
        "colab": {
          "base_uri": "https://localhost:8080/"
        },
        "id": "SJQkQR6N6NJU",
        "outputId": "d8b0966a-30c4-4e82-835b-f2f53243047e"
      },
      "outputs": [
        {
          "output_type": "stream",
          "name": "stdout",
          "text": [
            "Versão do TensorFlow: 2.18.0\n"
          ]
        }
      ],
      "source": [
        "# @title **Notebook: Transfer Learning com Cats vs Dogs**\n",
        "\n",
        "# ===========================================\n",
        "#       1. Bibliotecas e Configurações\n",
        "# ===========================================\n",
        "import os\n",
        "import zipfile\n",
        "import random\n",
        "import shutil\n",
        "\n",
        "import tensorflow as tf\n",
        "import numpy as np\n",
        "import matplotlib.pyplot as plt\n",
        "\n",
        "from tensorflow.keras.preprocessing.image import ImageDataGenerator\n",
        "from tensorflow.keras import layers, models\n",
        "from tensorflow.keras.optimizers import Adam\n",
        "\n",
        "print(\"Versão do TensorFlow:\", tf.__version__)\n",
        "\n"
      ]
    },
    {
      "cell_type": "code",
      "source": [
        "# ===========================================\n",
        "#       2. Upload e Descompactação\n",
        "# ===========================================\n",
        "# Supondo que o arquivo \"kagglecatsanddogs_5340.zip\" já está no diretório padrão do Colab (/content)\n",
        "\n",
        "DATASET_ZIP = \"/content/kagglecatsanddogs_5340.zip\"\n",
        "\n",
        "# Descompacta o arquivo na pasta /content\n",
        "with zipfile.ZipFile(DATASET_ZIP, 'r') as zip_ref:\n",
        "    zip_ref.extractall(\"/content\")\n",
        "\n",
        "# O dataset extraído normalmente cria uma pasta chamada \"PetImages\" com subpastas \"Cat\" e \"Dog\"\n",
        "DATASET_DIR = \"/content/PetImages\"\n",
        "\n",
        "# Verificando o conteúdo\n",
        "print(\"Conteúdo do diretório principal:\")\n",
        "print(os.listdir(DATASET_DIR))\n",
        "\n",
        "# Verificando subpastas\n",
        "print(\"\\nSubpastas em PetImages:\", os.listdir(DATASET_DIR))\n"
      ],
      "metadata": {
        "colab": {
          "base_uri": "https://localhost:8080/"
        },
        "id": "vMO4DDqf8B7Z",
        "outputId": "f8b90d81-ed1d-4976-86cc-e7294b6b7aec"
      },
      "execution_count": 6,
      "outputs": [
        {
          "output_type": "stream",
          "name": "stdout",
          "text": [
            "Conteúdo do diretório principal:\n",
            "['Cat', 'Dog']\n",
            "\n",
            "Subpastas em PetImages: ['Cat', 'Dog']\n"
          ]
        }
      ]
    },
    {
      "cell_type": "code",
      "source": [
        "# ===========================================\n",
        "#       3. Organizando as Pastas de Treino e Validação\n",
        "# ===========================================\n",
        "# Neste passo, criaremos duas pastas principais: \"cats_vs_dogs_data/train\" e \"cats_vs_dogs_data/validation\"\n",
        "# Cada uma terá as subpastas \"Cat\" e \"Dog\".\n",
        "\n",
        "base_dir = \"/content/cats_vs_dogs_data\"\n",
        "train_dir = os.path.join(base_dir, \"train\")\n",
        "val_dir = os.path.join(base_dir, \"validation\")\n",
        "\n",
        "os.makedirs(train_dir, exist_ok=True)\n",
        "os.makedirs(val_dir, exist_ok=True)\n",
        "\n",
        "# Cria subpastas\n",
        "for category in [\"Cat\", \"Dog\"]:\n",
        "    os.makedirs(os.path.join(train_dir, category), exist_ok=True)\n",
        "    os.makedirs(os.path.join(val_dir, category), exist_ok=True)\n",
        "\n",
        "# Normalmente, o dataset \"PetImages\" contém as pastas \"Cat\" e \"Dog\".\n",
        "original_cats_dir = os.path.join(DATASET_DIR, \"Cat\")\n",
        "original_dogs_dir = os.path.join(DATASET_DIR, \"Dog\")\n",
        "\n",
        "# Listando os arquivos de cada classe\n",
        "cat_filenames = [f for f in os.listdir(original_cats_dir) if f.endswith(\".jpg\")]\n",
        "dog_filenames = [f for f in os.listdir(original_dogs_dir) if f.endswith(\".jpg\")]\n",
        "\n",
        "# Removendo possíveis arquivos corrompidos (por segurança)\n",
        "def is_valid_image(filepath):\n",
        "    try:\n",
        "        img = tf.io.read_file(filepath)\n",
        "        img = tf.io.decode_jpeg(img)\n",
        "    except:\n",
        "        return False\n",
        "    return True\n",
        "\n",
        "cat_filenames_full = [os.path.join(original_cats_dir, f) for f in cat_filenames]\n",
        "dog_filenames_full = [os.path.join(original_dogs_dir, f) for f in dog_filenames]\n",
        "\n",
        "cat_filenames_valid = [f for f in cat_filenames_full if is_valid_image(f)]\n",
        "dog_filenames_valid = [f for f in dog_filenames_full if is_valid_image(f)]\n",
        "\n",
        "print(\"Total de imagens de gato após verificação:\", len(cat_filenames_valid))\n",
        "print(\"Total de imagens de cachorro após verificação:\", len(dog_filenames_valid))\n",
        "\n",
        "# Vamos dividir em 80% treino e 20% validação (você pode ajustar se desejar)\n",
        "split_ratio = 0.8\n",
        "\n",
        "# Função auxiliar para mover arquivos\n",
        "def split_data(file_list, train_path, val_path, category):\n",
        "    random.shuffle(file_list)\n",
        "    split_index = int(len(file_list) * split_ratio)\n",
        "    train_files = file_list[:split_index]\n",
        "    val_files = file_list[split_index:]\n",
        "\n",
        "    for file in train_files:\n",
        "        shutil.copy(file, os.path.join(train_path, category))\n",
        "\n",
        "    for file in val_files:\n",
        "        shutil.copy(file, os.path.join(val_path, category))\n",
        "\n",
        "split_data(cat_filenames_valid, train_dir, val_dir, \"Cat\")\n",
        "split_data(dog_filenames_valid, train_dir, val_dir, \"Dog\")\n",
        "\n",
        "print(\"\\nOrganização concluída!\")\n",
        "print(\"Pasta de treino (Cats):\", len(os.listdir(os.path.join(train_dir, \"Cat\"))))\n",
        "print(\"Pasta de treino (Dogs):\", len(os.listdir(os.path.join(train_dir, \"Dog\"))))\n",
        "print(\"Pasta de validação (Cats):\", len(os.listdir(os.path.join(val_dir, \"Cat\"))))\n",
        "print(\"Pasta de validação (Dogs):\", len(os.listdir(os.path.join(val_dir, \"Dog\"))))\n"
      ],
      "metadata": {
        "colab": {
          "base_uri": "https://localhost:8080/"
        },
        "id": "Cc6-fbxY8K-i",
        "outputId": "0c419ef9-fbde-4436-c884-075f00b47d4a"
      },
      "execution_count": 7,
      "outputs": [
        {
          "output_type": "stream",
          "name": "stdout",
          "text": [
            "Total de imagens de gato após verificação: 12427\n",
            "Total de imagens de cachorro após verificação: 12397\n",
            "\n",
            "Organização concluída!\n",
            "Pasta de treino (Cats): 9941\n",
            "Pasta de treino (Dogs): 9917\n",
            "Pasta de validação (Cats): 2486\n",
            "Pasta de validação (Dogs): 2480\n"
          ]
        }
      ]
    },
    {
      "cell_type": "code",
      "source": [
        "# ===========================================\n",
        "#       4. Criação dos Geradores de Imagem\n",
        "# ===========================================\n",
        "# Iremos usar o ImageDataGenerator para:\n",
        "# 1) Redimensionar as imagens.\n",
        "# 2) Normalizar os pixels.\n",
        "# 3) Aplicar Data Augmentation no conjunto de treino.\n",
        "\n",
        "IMG_SIZE = (224, 224)\n",
        "BATCH_SIZE = 32\n",
        "\n",
        "train_datagen = ImageDataGenerator(\n",
        "    rescale=1./255,\n",
        "    rotation_range=20,\n",
        "    width_shift_range=0.2,\n",
        "    height_shift_range=0.2,\n",
        "    shear_range=0.2,\n",
        "    zoom_range=0.2,\n",
        "    horizontal_flip=True,\n",
        "    fill_mode='nearest'\n",
        ")\n",
        "\n",
        "val_datagen = ImageDataGenerator(rescale=1./255)\n",
        "\n",
        "train_generator = train_datagen.flow_from_directory(\n",
        "    directory=train_dir,\n",
        "    target_size=IMG_SIZE,\n",
        "    batch_size=BATCH_SIZE,\n",
        "    class_mode='binary'  # Para classificação binária\n",
        ")\n",
        "\n",
        "val_generator = val_datagen.flow_from_directory(\n",
        "    directory=val_dir,\n",
        "    target_size=IMG_SIZE,\n",
        "    batch_size=BATCH_SIZE,\n",
        "    class_mode='binary'\n",
        ")\n"
      ],
      "metadata": {
        "colab": {
          "base_uri": "https://localhost:8080/"
        },
        "id": "zIgA1iKD8b2a",
        "outputId": "bbf5e410-6944-4aab-c3b8-ea36dd74557d"
      },
      "execution_count": 8,
      "outputs": [
        {
          "output_type": "stream",
          "name": "stdout",
          "text": [
            "Found 19858 images belonging to 2 classes.\n",
            "Found 4966 images belonging to 2 classes.\n"
          ]
        }
      ]
    },
    {
      "cell_type": "code",
      "source": [
        "# ===========================================\n",
        "#       5. Construindo o Modelo (Transfer Learning)\n",
        "# ===========================================\n",
        "# Utilizaremos o MobileNetV2 pré-treinado no ImageNet.\n",
        "# Vamos remover a top layer e adicionar novas camadas para classificar Cat vs Dog.\n",
        "\n",
        "base_model = tf.keras.applications.MobileNetV2(\n",
        "    input_shape=IMG_SIZE + (3,),\n",
        "    include_top=False,\n",
        "    weights='imagenet'\n",
        ")\n",
        "\n",
        "# Congelar as camadas do modelo base (para treinar apenas as camadas finais que adicionaremos)\n",
        "base_model.trainable = False\n",
        "\n",
        "model = models.Sequential([\n",
        "    base_model,\n",
        "    layers.GlobalAveragePooling2D(),\n",
        "    layers.Dense(1, activation='sigmoid')  # Camada final binária\n",
        "])\n",
        "\n",
        "model.compile(\n",
        "    optimizer=Adam(learning_rate=0.001),\n",
        "    loss='binary_crossentropy',\n",
        "    metrics=['accuracy']\n",
        ")\n",
        "\n",
        "model.summary()\n"
      ],
      "metadata": {
        "colab": {
          "base_uri": "https://localhost:8080/",
          "height": 290
        },
        "id": "Hmr1Xf948gOI",
        "outputId": "2d92f865-e164-46da-e0f8-a433fb2eefd8"
      },
      "execution_count": 9,
      "outputs": [
        {
          "output_type": "stream",
          "name": "stdout",
          "text": [
            "Downloading data from https://storage.googleapis.com/tensorflow/keras-applications/mobilenet_v2/mobilenet_v2_weights_tf_dim_ordering_tf_kernels_1.0_224_no_top.h5\n",
            "\u001b[1m9406464/9406464\u001b[0m \u001b[32m━━━━━━━━━━━━━━━━━━━━\u001b[0m\u001b[37m\u001b[0m \u001b[1m0s\u001b[0m 0us/step\n"
          ]
        },
        {
          "output_type": "display_data",
          "data": {
            "text/plain": [
              "\u001b[1mModel: \"sequential\"\u001b[0m\n"
            ],
            "text/html": [
              "<pre style=\"white-space:pre;overflow-x:auto;line-height:normal;font-family:Menlo,'DejaVu Sans Mono',consolas,'Courier New',monospace\"><span style=\"font-weight: bold\">Model: \"sequential\"</span>\n",
              "</pre>\n"
            ]
          },
          "metadata": {}
        },
        {
          "output_type": "display_data",
          "data": {
            "text/plain": [
              "┏━━━━━━━━━━━━━━━━━━━━━━━━━━━━━━━━━━━━━━┳━━━━━━━━━━━━━━━━━━━━━━━━━━━━━┳━━━━━━━━━━━━━━━━━┓\n",
              "┃\u001b[1m \u001b[0m\u001b[1mLayer (type)                        \u001b[0m\u001b[1m \u001b[0m┃\u001b[1m \u001b[0m\u001b[1mOutput Shape               \u001b[0m\u001b[1m \u001b[0m┃\u001b[1m \u001b[0m\u001b[1m        Param #\u001b[0m\u001b[1m \u001b[0m┃\n",
              "┡━━━━━━━━━━━━━━━━━━━━━━━━━━━━━━━━━━━━━━╇━━━━━━━━━━━━━━━━━━━━━━━━━━━━━╇━━━━━━━━━━━━━━━━━┩\n",
              "│ mobilenetv2_1.00_224 (\u001b[38;5;33mFunctional\u001b[0m)    │ (\u001b[38;5;45mNone\u001b[0m, \u001b[38;5;34m7\u001b[0m, \u001b[38;5;34m7\u001b[0m, \u001b[38;5;34m1280\u001b[0m)          │       \u001b[38;5;34m2,257,984\u001b[0m │\n",
              "├──────────────────────────────────────┼─────────────────────────────┼─────────────────┤\n",
              "│ global_average_pooling2d             │ (\u001b[38;5;45mNone\u001b[0m, \u001b[38;5;34m1280\u001b[0m)                │               \u001b[38;5;34m0\u001b[0m │\n",
              "│ (\u001b[38;5;33mGlobalAveragePooling2D\u001b[0m)             │                             │                 │\n",
              "├──────────────────────────────────────┼─────────────────────────────┼─────────────────┤\n",
              "│ dense (\u001b[38;5;33mDense\u001b[0m)                        │ (\u001b[38;5;45mNone\u001b[0m, \u001b[38;5;34m1\u001b[0m)                   │           \u001b[38;5;34m1,281\u001b[0m │\n",
              "└──────────────────────────────────────┴─────────────────────────────┴─────────────────┘\n"
            ],
            "text/html": [
              "<pre style=\"white-space:pre;overflow-x:auto;line-height:normal;font-family:Menlo,'DejaVu Sans Mono',consolas,'Courier New',monospace\">┏━━━━━━━━━━━━━━━━━━━━━━━━━━━━━━━━━━━━━━┳━━━━━━━━━━━━━━━━━━━━━━━━━━━━━┳━━━━━━━━━━━━━━━━━┓\n",
              "┃<span style=\"font-weight: bold\"> Layer (type)                         </span>┃<span style=\"font-weight: bold\"> Output Shape                </span>┃<span style=\"font-weight: bold\">         Param # </span>┃\n",
              "┡━━━━━━━━━━━━━━━━━━━━━━━━━━━━━━━━━━━━━━╇━━━━━━━━━━━━━━━━━━━━━━━━━━━━━╇━━━━━━━━━━━━━━━━━┩\n",
              "│ mobilenetv2_1.00_224 (<span style=\"color: #0087ff; text-decoration-color: #0087ff\">Functional</span>)    │ (<span style=\"color: #00d7ff; text-decoration-color: #00d7ff\">None</span>, <span style=\"color: #00af00; text-decoration-color: #00af00\">7</span>, <span style=\"color: #00af00; text-decoration-color: #00af00\">7</span>, <span style=\"color: #00af00; text-decoration-color: #00af00\">1280</span>)          │       <span style=\"color: #00af00; text-decoration-color: #00af00\">2,257,984</span> │\n",
              "├──────────────────────────────────────┼─────────────────────────────┼─────────────────┤\n",
              "│ global_average_pooling2d             │ (<span style=\"color: #00d7ff; text-decoration-color: #00d7ff\">None</span>, <span style=\"color: #00af00; text-decoration-color: #00af00\">1280</span>)                │               <span style=\"color: #00af00; text-decoration-color: #00af00\">0</span> │\n",
              "│ (<span style=\"color: #0087ff; text-decoration-color: #0087ff\">GlobalAveragePooling2D</span>)             │                             │                 │\n",
              "├──────────────────────────────────────┼─────────────────────────────┼─────────────────┤\n",
              "│ dense (<span style=\"color: #0087ff; text-decoration-color: #0087ff\">Dense</span>)                        │ (<span style=\"color: #00d7ff; text-decoration-color: #00d7ff\">None</span>, <span style=\"color: #00af00; text-decoration-color: #00af00\">1</span>)                   │           <span style=\"color: #00af00; text-decoration-color: #00af00\">1,281</span> │\n",
              "└──────────────────────────────────────┴─────────────────────────────┴─────────────────┘\n",
              "</pre>\n"
            ]
          },
          "metadata": {}
        },
        {
          "output_type": "display_data",
          "data": {
            "text/plain": [
              "\u001b[1m Total params: \u001b[0m\u001b[38;5;34m2,259,265\u001b[0m (8.62 MB)\n"
            ],
            "text/html": [
              "<pre style=\"white-space:pre;overflow-x:auto;line-height:normal;font-family:Menlo,'DejaVu Sans Mono',consolas,'Courier New',monospace\"><span style=\"font-weight: bold\"> Total params: </span><span style=\"color: #00af00; text-decoration-color: #00af00\">2,259,265</span> (8.62 MB)\n",
              "</pre>\n"
            ]
          },
          "metadata": {}
        },
        {
          "output_type": "display_data",
          "data": {
            "text/plain": [
              "\u001b[1m Trainable params: \u001b[0m\u001b[38;5;34m1,281\u001b[0m (5.00 KB)\n"
            ],
            "text/html": [
              "<pre style=\"white-space:pre;overflow-x:auto;line-height:normal;font-family:Menlo,'DejaVu Sans Mono',consolas,'Courier New',monospace\"><span style=\"font-weight: bold\"> Trainable params: </span><span style=\"color: #00af00; text-decoration-color: #00af00\">1,281</span> (5.00 KB)\n",
              "</pre>\n"
            ]
          },
          "metadata": {}
        },
        {
          "output_type": "display_data",
          "data": {
            "text/plain": [
              "\u001b[1m Non-trainable params: \u001b[0m\u001b[38;5;34m2,257,984\u001b[0m (8.61 MB)\n"
            ],
            "text/html": [
              "<pre style=\"white-space:pre;overflow-x:auto;line-height:normal;font-family:Menlo,'DejaVu Sans Mono',consolas,'Courier New',monospace\"><span style=\"font-weight: bold\"> Non-trainable params: </span><span style=\"color: #00af00; text-decoration-color: #00af00\">2,257,984</span> (8.61 MB)\n",
              "</pre>\n"
            ]
          },
          "metadata": {}
        }
      ]
    },
    {
      "cell_type": "code",
      "source": [
        "# ===========================================\n",
        "#       6. Treinamento do Modelo\n",
        "# ===========================================\n",
        "EPOCHS = 5\n",
        "\n",
        "history = model.fit(\n",
        "    train_generator,\n",
        "    epochs=EPOCHS,\n",
        "    validation_data=val_generator\n",
        ")\n",
        "\n",
        "# Curva de treinamento\n",
        "plt.figure()\n",
        "plt.plot(history.history['accuracy'], label='Acurácia Treino')\n",
        "plt.plot(history.history['val_accuracy'], label='Acurácia Val')\n",
        "plt.title('Acurácia durante o Treinamento')\n",
        "plt.legend()\n",
        "plt.show()\n",
        "\n",
        "plt.figure()\n",
        "plt.plot(history.history['loss'], label='Loss Treino')\n",
        "plt.plot(history.history['val_loss'], label='Loss Val')\n",
        "plt.title('Perda durante o Treinamento')\n",
        "plt.legend()\n",
        "plt.show()\n"
      ],
      "metadata": {
        "colab": {
          "base_uri": "https://localhost:8080/",
          "height": 1000
        },
        "id": "Ik0GdGGv8jZg",
        "outputId": "faa09a7a-6ce8-46d4-8191-d37d6f8e8a60"
      },
      "execution_count": 10,
      "outputs": [
        {
          "metadata": {
            "tags": null
          },
          "name": "stderr",
          "output_type": "stream",
          "text": [
            "/usr/local/lib/python3.11/dist-packages/keras/src/trainers/data_adapters/py_dataset_adapter.py:121: UserWarning: Your `PyDataset` class should call `super().__init__(**kwargs)` in its constructor. `**kwargs` can include `workers`, `use_multiprocessing`, `max_queue_size`. Do not pass these arguments to `fit()`, as they will be ignored.\n",
            "  self._warn_if_super_not_called()\n"
          ]
        },
        {
          "metadata": {
            "tags": null
          },
          "name": "stdout",
          "output_type": "stream",
          "text": [
            "Epoch 1/5\n",
            "\u001b[1m456/621\u001b[0m \u001b[32m━━━━━━━━━━━━━━\u001b[0m\u001b[37m━━━━━━\u001b[0m \u001b[1m4:57\u001b[0m 2s/step - accuracy: 0.9162 - loss: 0.1976"
          ]
        },
        {
          "metadata": {
            "tags": null
          },
          "name": "stderr",
          "output_type": "stream",
          "text": [
            "/usr/local/lib/python3.11/dist-packages/PIL/TiffImagePlugin.py:949: UserWarning: Truncated File Read\n",
            "  warnings.warn(str(msg))\n"
          ]
        },
        {
          "output_type": "stream",
          "name": "stdout",
          "text": [
            "\u001b[1m621/621\u001b[0m \u001b[32m━━━━━━━━━━━━━━━━━━━━\u001b[0m\u001b[37m\u001b[0m \u001b[1m1351s\u001b[0m 2s/step - accuracy: 0.9275 - loss: 0.1740 - val_accuracy: 0.9821 - val_loss: 0.0518\n",
            "Epoch 2/5\n",
            "\u001b[1m621/621\u001b[0m \u001b[32m━━━━━━━━━━━━━━━━━━━━\u001b[0m\u001b[37m\u001b[0m \u001b[1m1361s\u001b[0m 2s/step - accuracy: 0.9729 - loss: 0.0698 - val_accuracy: 0.9839 - val_loss: 0.0477\n",
            "Epoch 3/5\n",
            "\u001b[1m621/621\u001b[0m \u001b[32m━━━━━━━━━━━━━━━━━━━━\u001b[0m\u001b[37m\u001b[0m \u001b[1m1318s\u001b[0m 2s/step - accuracy: 0.9752 - loss: 0.0675 - val_accuracy: 0.9795 - val_loss: 0.0561\n",
            "Epoch 4/5\n",
            "\u001b[1m621/621\u001b[0m \u001b[32m━━━━━━━━━━━━━━━━━━━━\u001b[0m\u001b[37m\u001b[0m \u001b[1m1283s\u001b[0m 2s/step - accuracy: 0.9770 - loss: 0.0602 - val_accuracy: 0.9815 - val_loss: 0.0509\n",
            "Epoch 5/5\n",
            "\u001b[1m621/621\u001b[0m \u001b[32m━━━━━━━━━━━━━━━━━━━━\u001b[0m\u001b[37m\u001b[0m \u001b[1m1280s\u001b[0m 2s/step - accuracy: 0.9739 - loss: 0.0621 - val_accuracy: 0.9835 - val_loss: 0.0469\n"
          ]
        },
        {
          "output_type": "display_data",
          "data": {
            "text/plain": [
              "<Figure size 640x480 with 1 Axes>"
            ],
            "image/png": "[encoded data removed]"
          },
          "metadata": {}
        },
        {
          "output_type": "display_data",
          "data": {
            "text/plain": [
              "<Figure size 640x480 with 1 Axes>"
            ],
            "image/png": "[encoded data removed]"
          },
          "metadata": {}
        }
      ]
    },
    {
      "cell_type": "code",
      "source": [
        "# ===========================================\n",
        "#       8. Avaliação e Salvando o Modelo\n",
        "# ===========================================\n",
        "loss, accuracy = model.evaluate(val_generator)\n",
        "print(f\"Acurácia final no conjunto de validação: {accuracy*100:.2f}%\")\n",
        "\n",
        "# Salvar o modelo treinado\n",
        "model.save(\"modelo_transfer_learning_cats_dogs.h5\")\n",
        "print(\"Modelo salvo como 'modelo_transfer_learning_cats_dogs.h5'\")\n"
      ],
      "metadata": {
        "colab": {
          "base_uri": "https://localhost:8080/"
        },
        "id": "dpzOzZjCVyV-",
        "outputId": "4ec4eb0f-0f26-4d9a-d043-bfde81d0fa88"
      },
      "execution_count": 11,
      "outputs": [
        {
          "output_type": "stream",
          "name": "stdout",
          "text": [
            "\u001b[1m156/156\u001b[0m \u001b[32m━━━━━━━━━━━━━━━━━━━━\u001b[0m\u001b[37m\u001b[0m \u001b[1m215s\u001b[0m 1s/step - accuracy: 0.9837 - loss: 0.0498\n"
          ]
        },
        {
          "output_type": "stream",
          "name": "stderr",
          "text": [
            "WARNING:absl:You are saving your model as an HDF5 file via `model.save()` or `keras.saving.save_model(model)`. This file format is considered legacy. We recommend using instead the native Keras format, e.g. `model.save('my_model.keras')` or `keras.saving.save_model(model, 'my_model.keras')`. \n"
          ]
        },
        {
          "output_type": "stream",
          "name": "stdout",
          "text": [
            "Acurácia final no conjunto de validação: 98.35%\n",
            "Modelo salvo como 'modelo_transfer_learning_cats_dogs.h5'\n"
          ]
        }
      ]
    },
    {
      "cell_type": "markdown",
      "source": [
        "# ===========================================\n",
        "#       9. Conclusão\n",
        "# ===========================================\n",
        "#\n",
        "# Neste notebook, demonstramos como:\n",
        "# 1) Descompactar o dataset \"kagglecatsanddogs_5340.zip\" no Google Colab;\n",
        "# 2) Organizar as imagens em pastas de treino e validação (Cat e Dog);\n",
        "# 3) Construir um modelo de Transfer Learning usando MobileNetV2 pré-treinado no ImageNet;\n",
        "# 4) Realizar o treinamento e opcionalmente o fine tuning do modelo;\n",
        "# 5) Avaliar e salvar o modelo para uso posterior.\n",
        "\n"
      ],
      "metadata": {
        "id": "H3EOhcjsX2wS"
      }
    }
  ]
}